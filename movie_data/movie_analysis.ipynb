{
 "cells": [
  {
   "cell_type": "code",
   "execution_count": 2,
   "id": "93aba04d-a1dc-4be7-911d-f756e1f0832b",
   "metadata": {},
   "outputs": [],
   "source": [
    "# Import necessary libraries\n",
    "import pandas as pd\n",
    "import matplotlib.pyplot as plt\n",
    "import seaborn as sns"
   ]
  },
  {
   "cell_type": "code",
   "execution_count": 3,
   "id": "61233677-5d9d-4168-a409-e2f2dc00b809",
   "metadata": {},
   "outputs": [],
   "source": [
    "# Nothing to change here\n",
    "# Sample movie dataset in dictionary format with at least 30 rows\n",
    "movie_data = {\n",
    "    'title': ['Movie A', 'Movie B', 'Movie C', 'Movie D', 'Movie E', 'Movie F', 'Movie G', 'Movie H', 'Movie I', 'Movie J',\n",
    "              'Movie K', 'Movie L', 'Movie M', 'Movie N', 'Movie O', 'Movie P', 'Movie Q', 'Movie R', 'Movie S', 'Movie T',\n",
    "              'Movie U', 'Movie V', 'Movie W', 'Movie X', 'Movie Y', 'Movie Z', 'Movie AA', 'Movie BB', 'Movie CC', 'Movie DD'],\n",
    "    'genre': ['Action', 'Comedy', 'Drama', 'Action', 'Comedy', 'Drama', 'Action', 'Comedy', 'Drama', 'Action',\n",
    "              'Comedy', 'Drama', 'Action', 'Comedy', 'Drama', 'Action', 'Comedy', 'Drama', 'Action', 'Comedy',\n",
    "              'Drama', 'Action', 'Comedy', 'Drama', 'Action', 'Comedy', 'Drama', 'Action', 'Comedy', 'Drama'],\n",
    "    'rating': [4.5, 3.8, 4.2, 3.9, 4.1, 3.7, 4.3, 3.6, 4.4, 3.5, 4.0, 3.9, 4.2, 3.8, 4.1, 3.7, 4.3, 3.6, 4.4, 3.5,\n",
    "               4.0, 3.9, 4.2, 3.8, 4.1, 3.7, 4.3, 3.6, 4.4, 3.5],\n",
    "    'release_year': [2010, 2015, 2012, 2014, 2011, 2016, 2013, 2012, 2010, 2017,\n",
    "                     2014, 2019, 2016, 2012, 2018, 2015, 2013, 2014, 2017, 2011,\n",
    "                     2016, 2013, 2018, 2015, 2014, 2010, 2017, 2012, 2019, 2016]\n",
    "}"
   ]
  },
  {
   "cell_type": "code",
   "execution_count": 5,
   "id": "fe5b14c3-5629-456e-a983-e24891e4b920",
   "metadata": {},
   "outputs": [],
   "source": [
    "# Create a DataFrame from the movie_data dictionary\n",
    "df = pd.DataFrame(movie_data)\n",
    "\n",
    "# Save DataFrame to CSV\n",
    "df.to_csv('movie_dataset.csv', index=False)"
   ]
  },
  {
   "cell_type": "markdown",
   "id": "6e5e78e8-44f4-4461-a78f-63791691feb2",
   "metadata": {},
   "source": [
    "## Data Loading and Exploration:"
   ]
  },
  {
   "cell_type": "code",
   "execution_count": null,
   "id": "72f669be-6088-4e22-aa97-32545dc95a50",
   "metadata": {},
   "outputs": [],
   "source": [
    "# Load the data\n",
    "df = pd.read_csv('_______')"
   ]
  },
  {
   "cell_type": "code",
   "execution_count": null,
   "id": "ddb9d429-f6e5-421b-949e-a2d08ac40766",
   "metadata": {},
   "outputs": [],
   "source": [
    "# Display basic information about the dataset\n",
    "# print(\"Number of rows:\", ___)\n",
    "# print(\"Number of columns:\", ___)\n",
    "print(\"Structure of the dataset\", ___)\n",
    "print(\"Data types:\\n\", ___)"
   ]
  },
  {
   "cell_type": "code",
   "execution_count": null,
   "id": "80f6ac13-8e2a-4b71-9355-d24535b12157",
   "metadata": {},
   "outputs": [],
   "source": [
    "# Display the first few rows of the dataset\n",
    "print(___)"
   ]
  },
  {
   "cell_type": "markdown",
   "id": "5b9ba5de-a28d-4f5e-b38e-7fef815d3bde",
   "metadata": {},
   "source": [
    "Data Cleaning:"
   ]
  },
  {
   "cell_type": "code",
   "execution_count": null,
   "id": "fea1450d-7b59-4423-8358-6fd28d7cd213",
   "metadata": {},
   "outputs": [],
   "source": [
    "# Check for missing values\n",
    "missing_values = df.___()\n",
    "print(\"Missing values:\\n\", missing_values)"
   ]
  },
  {
   "cell_type": "code",
   "execution_count": null,
   "id": "ca8d7339-c0ca-4d4e-bfd1-892aa15ad845",
   "metadata": {},
   "outputs": [],
   "source": [
    "# Handle missing values (if needed)\n",
    "df = df.___(how=___, axis=___)"
   ]
  },
  {
   "cell_type": "code",
   "execution_count": null,
   "id": "bfbf635a-28f5-49d8-8d93-975cc55c7e01",
   "metadata": {},
   "outputs": [],
   "source": [
    "# Convert data types if needed\n"
   ]
  },
  {
   "cell_type": "code",
   "execution_count": null,
   "id": "da2a47a6-7642-4276-b151-d104c907f807",
   "metadata": {},
   "outputs": [],
   "source": [
    "# Explore movie ratings distribution\n",
    "plt.figure(figsize=(8, 6))\n",
    "sns.histplot(df['rating'], bins=20, kde=True)\n",
    "plt.title(\"Movie Ratings Distribution\")\n",
    "plt.xlabel(\"Rating\")\n",
    "plt.ylabel(\"Frequency\")\n",
    "plt.show()"
   ]
  },
  {
   "cell_type": "code",
   "execution_count": null,
   "id": "61995fc9-9813-4053-a397-5e14d72ac886",
   "metadata": {},
   "outputs": [],
   "source": [
    "# Calculate average rating for each genre\n",
    "avg_rating_by_genre = df.groupby('___')['___'].mean()"
   ]
  },
  {
   "cell_type": "code",
   "execution_count": null,
   "id": "86c52221-b570-48c6-918b-0b509ac92135",
   "metadata": {},
   "outputs": [],
   "source": [
    "# Visualize average rating by genre using a bar plot\n",
    "plt.figure(figsize=(10, 6))\n",
    "avg_rating_by_genre.___()\n",
    "plt.title(\"Average Rating by Genre\")\n",
    "plt.xlabel(\"Genre\")\n",
    "plt.ylabel(\"Average Rating\")\n",
    "plt.xticks(rotation=45)\n",
    "plt.show()"
   ]
  },
  {
   "cell_type": "markdown",
   "id": "8b46c553-1674-4ec2-8945-368f8ac64716",
   "metadata": {},
   "source": [
    "Business Insights"
   ]
  },
  {
   "cell_type": "code",
   "execution_count": null,
   "id": "c1aba1fa-9c8e-4ad4-8e3d-b325823aef2f",
   "metadata": {},
   "outputs": [],
   "source": [
    "# Determine top 5 most common movie genres\n",
    "top_genres = df['genre'].___().head(5)\n",
    "print(\"Top 5 most common genres:\", top_genres)"
   ]
  },
  {
   "cell_type": "code",
   "execution_count": null,
   "id": "4f8c6610-471b-4fbf-9a18-8349c69b7c52",
   "metadata": {},
   "outputs": [],
   "source": [
    "# Provide insights to the movie industry\n",
    "print(\"Based on the analysis, the movie industry should consider focusing on the following genres:\")\n",
    "for genre in top_genres:\n",
    "    print(\"-\", genre)"
   ]
  }
 ],
 "metadata": {
  "kernelspec": {
   "display_name": "Python 3 (ipykernel)",
   "language": "python",
   "name": "python3"
  },
  "language_info": {
   "codemirror_mode": {
    "name": "ipython",
    "version": 3
   },
   "file_extension": ".py",
   "mimetype": "text/x-python",
   "name": "python",
   "nbconvert_exporter": "python",
   "pygments_lexer": "ipython3",
   "version": "3.9.16"
  }
 },
 "nbformat": 4,
 "nbformat_minor": 5
}
