{
 "cells": [
  {
   "cell_type": "code",
   "execution_count": 4,
   "id": "9b4fc4c8-d1bb-4fe1-93a8-f3804c8259e2",
   "metadata": {},
   "outputs": [],
   "source": [
    "import pandas as pd"
   ]
  },
  {
   "cell_type": "markdown",
   "id": "1472bb5c-d3db-49e3-89e4-3c2f2576b078",
   "metadata": {},
   "source": [
    "data = {\n",
    "    'student_id': [1, 2, 3, 4, 5, 6, 7, 8, 9, 10],\n",
    "    'first_name': ['John', 'Jane', 'Mike', 'Emily', 'Chris', 'Sarah', 'David', 'Laura', 'James', 'Olivia'],\n",
    "    'last_name': ['Doe', 'Smith', 'Johnson', 'Williams', 'Brown', 'Jones', 'Lee', 'Miller', 'Anderson', 'Brown'],\n",
    "    'age': [18, 17, 18, 16, 17, 18, 16, 17, 16, 18],\n",
    "    'gender': ['M', 'F', 'M', 'F', 'M', 'F', 'M', 'F', 'M', 'F'],\n",
    "    'math_score': [85, 72, 65, 90, 78, 92, 70, 88, 75, 95],\n",
    "    'science_score': [78, 88, 92, 68, 75, 82, 84, 70, 90, 96],\n",
    "    'english_score': [92, 95, 78, 82, 88, 96, 77, 90, 85, 92]\n",
    "}\n",
    "\n",
    "\n",
    "# Create a DataFrame from the dictionary\n",
    "df = pd.DataFrame(data)\n",
    "\n",
    "# Save the DataFrame to a CSV file\n",
    "df.to_csv('student_scores.csv', index=False)"
   ]
  },
  {
   "cell_type": "code",
   "execution_count": 5,
   "id": "b2447bd7-ea34-4940-99b8-59ac275693f0",
   "metadata": {},
   "outputs": [],
   "source": [
    "# Load the dataset\n",
    "data = pd.read_csv(\"student_scores.csv\")"
   ]
  },
  {
   "cell_type": "code",
   "execution_count": 6,
   "id": "c4e5aeed-bda5-4fb3-b631-0fb89bf84e63",
   "metadata": {},
   "outputs": [
    {
     "name": "stdout",
     "output_type": "stream",
     "text": [
      "   student_id first_name last_name  age gender  math_score  science_score  \\\n",
      "0           1       John       Doe   18      M          85             78   \n",
      "1           2       Jane     Smith   17      F          72             88   \n",
      "2           3       Mike   Johnson   18      M          65             92   \n",
      "3           4      Emily  Williams   16      F          90             68   \n",
      "4           5      Chris     Brown   17      M          78             75   \n",
      "\n",
      "   english_score  \n",
      "0             92  \n",
      "1             95  \n",
      "2             78  \n",
      "3             82  \n",
      "4             88  \n"
     ]
    }
   ],
   "source": [
    "# Display the first few rows of the dataset\n",
    "print(data.head())"
   ]
  },
  {
   "cell_type": "code",
   "execution_count": 7,
   "id": "29fcbd42-f93c-45ab-aab3-a8fb404bdd66",
   "metadata": {},
   "outputs": [
    {
     "name": "stdout",
     "output_type": "stream",
     "text": [
      "<class 'pandas.core.frame.DataFrame'>\n",
      "RangeIndex: 10 entries, 0 to 9\n",
      "Data columns (total 8 columns):\n",
      " #   Column         Non-Null Count  Dtype \n",
      "---  ------         --------------  ----- \n",
      " 0   student_id     10 non-null     int64 \n",
      " 1   first_name     10 non-null     object\n",
      " 2   last_name      10 non-null     object\n",
      " 3   age            10 non-null     int64 \n",
      " 4   gender         10 non-null     object\n",
      " 5   math_score     10 non-null     int64 \n",
      " 6   science_score  10 non-null     int64 \n",
      " 7   english_score  10 non-null     int64 \n",
      "dtypes: int64(5), object(3)\n",
      "memory usage: 768.0+ bytes\n",
      "None\n"
     ]
    }
   ],
   "source": [
    "# Get basic information about the dataset\n",
    "print(data.info())"
   ]
  },
  {
   "cell_type": "code",
   "execution_count": 8,
   "id": "2d97a2e9-8c14-4e55-ad5d-4fc91d262efa",
   "metadata": {},
   "outputs": [
    {
     "name": "stdout",
     "output_type": "stream",
     "text": [
      "       student_id        age  math_score  science_score  english_score\n",
      "count    10.00000  10.000000    10.00000      10.000000      10.000000\n",
      "mean      5.50000  17.100000    81.00000      82.300000      87.500000\n",
      "std       3.02765   0.875595    10.36018       9.452219       6.770032\n",
      "min       1.00000  16.000000    65.00000      68.000000      77.000000\n",
      "25%       3.25000  16.250000    72.75000      75.750000      82.750000\n",
      "50%       5.50000  17.000000    81.50000      83.000000      89.000000\n",
      "75%       7.75000  18.000000    89.50000      89.500000      92.000000\n",
      "max      10.00000  18.000000    95.00000      96.000000      96.000000\n"
     ]
    }
   ],
   "source": [
    "# Calculate summary statistics\n",
    "print(data.describe())"
   ]
  },
  {
   "cell_type": "code",
   "execution_count": 9,
   "id": "0f88544b-352b-46e3-8eb4-2ea8c0b41436",
   "metadata": {},
   "outputs": [
    {
     "name": "stdout",
     "output_type": "stream",
     "text": [
      "   math_score  science_score  english_score\n",
      "0          85             78             92\n",
      "1          72             88             95\n",
      "2          65             92             78\n",
      "3          90             68             82\n",
      "4          78             75             88\n"
     ]
    }
   ],
   "source": [
    "# Select specific columns\n",
    "scores = data[['math_score', 'science_score', 'english_score']]\n",
    "print(scores.head())"
   ]
  },
  {
   "cell_type": "code",
   "execution_count": null,
   "id": "b4297988-a378-4918-9e36-783f089d0ef6",
   "metadata": {},
   "outputs": [],
   "source": [
    "# Calculate average scores\n",
    "average_scores = scores.mean()\n",
    "print(average_scores)"
   ]
  },
  {
   "cell_type": "code",
   "execution_count": null,
   "id": "bc595d58-942e-4238-ac6c-74fdf726b631",
   "metadata": {},
   "outputs": [],
   "source": [
    "# Find the student with the highest total score\n",
    "data['total_score'] = data['math_score'] + data['science_score'] + data['english_score']\n",
    "highest_scoring_student = data.loc[data['total_score'].idxmax()]\n",
    "print(highest_scoring_student)"
   ]
  },
  {
   "cell_type": "code",
   "execution_count": null,
   "id": "1cea395c-16d3-4e06-b9b8-a9d1c3706773",
   "metadata": {},
   "outputs": [],
   "source": [
    "# Filter data based on conditions\n",
    "female_students = data[data['gender'] == 'F']\n",
    "print(female_students)"
   ]
  },
  {
   "cell_type": "code",
   "execution_count": null,
   "id": "022a0a63-04f7-4161-9756-10744c5d0cab",
   "metadata": {},
   "outputs": [],
   "source": [
    "# Group data by gender and calculate average scores\n",
    "gender_grouped = data.groupby('gender').mean()\n",
    "print(gender_grouped)"
   ]
  },
  {
   "cell_type": "code",
   "execution_count": null,
   "id": "6653d58a-f394-4466-8268-a117989c2a07",
   "metadata": {},
   "outputs": [],
   "source": [
    "# Sort data by a specific column\n",
    "sorted_data = data.sort_values(by='total_score', ascending=False)\n",
    "print(sorted_data)"
   ]
  },
  {
   "cell_type": "code",
   "execution_count": null,
   "id": "2222cf30-5069-4b5d-a8fe-6b28b1eb0b41",
   "metadata": {},
   "outputs": [],
   "source": [
    "# Save the modified data to a new CSV file\n",
    "data.to_csv(\"modified_student_scores.csv\", index=False)"
   ]
  },
  {
   "cell_type": "code",
   "execution_count": null,
   "id": "3f5af883-edf9-4089-9810-af3beba0c3d0",
   "metadata": {},
   "outputs": [],
   "source": []
  },
  {
   "cell_type": "code",
   "execution_count": null,
   "id": "9de4ecd9-d6a1-439f-aa6c-b6332348c095",
   "metadata": {},
   "outputs": [],
   "source": []
  },
  {
   "cell_type": "code",
   "execution_count": null,
   "id": "509dff32-dde4-4b7c-8f90-f65cebd90def",
   "metadata": {},
   "outputs": [],
   "source": []
  },
  {
   "cell_type": "code",
   "execution_count": null,
   "id": "79ab12b2-098e-4b8a-8f83-4b0eeea83493",
   "metadata": {},
   "outputs": [],
   "source": []
  },
  {
   "cell_type": "code",
   "execution_count": null,
   "id": "bfa52146-c508-44c5-911d-c2afe9434003",
   "metadata": {},
   "outputs": [],
   "source": []
  }
 ],
 "metadata": {
  "kernelspec": {
   "display_name": "Python 3 (ipykernel)",
   "language": "python",
   "name": "python3"
  },
  "language_info": {
   "codemirror_mode": {
    "name": "ipython",
    "version": 3
   },
   "file_extension": ".py",
   "mimetype": "text/x-python",
   "name": "python",
   "nbconvert_exporter": "python",
   "pygments_lexer": "ipython3",
   "version": "3.9.16"
  }
 },
 "nbformat": 4,
 "nbformat_minor": 5
}
